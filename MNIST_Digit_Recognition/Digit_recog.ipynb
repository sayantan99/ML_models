{
  "nbformat": 4,
  "nbformat_minor": 0,
  "metadata": {
    "colab": {
      "name": "Digit_recog.ipynb",
      "provenance": [],
      "collapsed_sections": []
    },
    "kernelspec": {
      "name": "python3",
      "display_name": "Python 3"
    }
  },
  "cells": [
    {
      "cell_type": "code",
      "metadata": {
        "id": "rXh1oOyafsZF",
        "colab_type": "code",
        "colab": {}
      },
      "source": [
        "import tensorflow as tf"
      ],
      "execution_count": 0,
      "outputs": []
    },
    {
      "cell_type": "code",
      "metadata": {
        "id": "_3K8WfJDfuxf",
        "colab_type": "code",
        "colab": {}
      },
      "source": [
        "mnist=tf.keras.datasets.mnist\n",
        "callbacks=mycallback()"
      ],
      "execution_count": 0,
      "outputs": []
    },
    {
      "cell_type": "code",
      "metadata": {
        "id": "WLOERYH_f0R-",
        "colab_type": "code",
        "outputId": "ef17fee3-e317-4613-d5aa-bfadf644284b",
        "colab": {
          "base_uri": "https://localhost:8080/",
          "height": 269
        }
      },
      "source": [
        "(x_train,y_train) ,(x_test,y_test)=mnist.load_data()\n",
        "#now we have to normalise the data or to be specific scale the data\n",
        "x_train= tf.keras.utils.normalize(x_train,axis=1)\n",
        "x_test= tf.keras.utils.normalize(x_test,axis=1)\n",
        "\n",
        "#model building\n",
        "model=tf.keras.models.Sequential() # using sequential model as it is most commonly used\n",
        "model.add(tf.keras.layers.Flatten())# flatening the input matrix into one column\n",
        "model.add(tf.keras.layers.Dense(128, activation=tf.nn.relu)) # adding hidden layers\n",
        "model.add(tf.keras.layers.Dense(128, activation=tf.nn.relu))\n",
        "model.add(tf.keras.layers.Dense(10, activation=tf.nn.softmax))\n",
        "model.compile(optimizer='adam',\n",
        "               loss='sparse_categorical_crossentropy',\n",
        "               metrics=['accuracy'])\n",
        "model.fit(x_train,y_train,epochs=3,callbacks=[callbacks])"
      ],
      "execution_count": 0,
      "outputs": [
        {
          "output_type": "stream",
          "text": [
            "Downloading data from https://storage.googleapis.com/tensorflow/tf-keras-datasets/mnist.npz\n",
            "11493376/11490434 [==============================] - 0s 0us/step\n",
            "Epoch 1/3\n",
            "1851/1875 [============================>.] - ETA: 0s - loss: 0.2601 - accuracy: 0.9246\n",
            " the loss is too low stop the training\n",
            "1875/1875 [==============================] - 4s 2ms/step - loss: 0.2586 - accuracy: 0.9250\n",
            "Epoch 2/3\n",
            "1857/1875 [============================>.] - ETA: 0s - loss: 0.1072 - accuracy: 0.9671\n",
            " the loss is too low stop the training\n",
            "1875/1875 [==============================] - 4s 2ms/step - loss: 0.1071 - accuracy: 0.9671\n",
            "Epoch 3/3\n",
            "1861/1875 [============================>.] - ETA: 0s - loss: 0.0737 - accuracy: 0.9768\n",
            " the loss is too low stop the training\n",
            "1875/1875 [==============================] - 4s 2ms/step - loss: 0.0738 - accuracy: 0.9768\n"
          ],
          "name": "stdout"
        },
        {
          "output_type": "execute_result",
          "data": {
            "text/plain": [
              "<tensorflow.python.keras.callbacks.History at 0x7f8c85f572e8>"
            ]
          },
          "metadata": {
            "tags": []
          },
          "execution_count": 6
        }
      ]
    },
    {
      "cell_type": "code",
      "metadata": {
        "id": "H9ov6XJAgBZK",
        "colab_type": "code",
        "outputId": "1ce6f84a-65b5-48e0-9498-7ef17d315dc6",
        "colab": {
          "base_uri": "https://localhost:8080/",
          "height": 265
        }
      },
      "source": [
        "#print(x_train[0])\n",
        "import matplotlib.pyplot as plt\n",
        "plt.imshow(x_train[0], cmap=plt.cm.binary)\n",
        "plt.show()"
      ],
      "execution_count": 0,
      "outputs": [
        {
          "output_type": "display_data",
          "data": {
            "image/png": "[encoded data removed]",
            "text/plain": [
              "<Figure size 432x288 with 1 Axes>"
            ]
          },
          "metadata": {
            "tags": [],
            "needs_background": "light"
          }
        }
      ]
    },
    {
      "cell_type": "code",
      "metadata": {
        "id": "MwEtYI2KgJRK",
        "colab_type": "code",
        "outputId": "24d57e7d-916b-4bf5-e484-ffe7a3c1662e",
        "colab": {
          "base_uri": "https://localhost:8080/",
          "height": 50
        }
      },
      "source": [
        " val_loss ,val_acc=model.evaluate(x_test , y_test)\n",
        " print(val_loss,val_acc)\n",
        " \n",
        " "
      ],
      "execution_count": 0,
      "outputs": [
        {
          "output_type": "stream",
          "text": [
            "313/313 [==============================] - 0s 1ms/step - loss: 0.0897 - accuracy: 0.9725\n",
            "0.08970120549201965 0.9725000262260437\n"
          ],
          "name": "stdout"
        }
      ]
    },
    {
      "cell_type": "code",
      "metadata": {
        "id": "-yMZYzorjdgy",
        "colab_type": "code",
        "outputId": "7f4cee4d-afac-4310-cfbc-14f76e086b7e",
        "colab": {
          "base_uri": "https://localhost:8080/",
          "height": 34
        }
      },
      "source": [
        "model.save('epic_num_reader.model')\n"
      ],
      "execution_count": 0,
      "outputs": [
        {
          "output_type": "stream",
          "text": [
            "INFO:tensorflow:Assets written to: epic_num_reader.model/assets\n"
          ],
          "name": "stdout"
        }
      ]
    },
    {
      "cell_type": "code",
      "metadata": {
        "id": "cmqxCkUqjqpW",
        "colab_type": "code",
        "outputId": "18145c6f-797f-4c60-f456-e7bb76e6fcc6",
        "colab": {
          "base_uri": "https://localhost:8080/",
          "height": 235
        }
      },
      "source": [
        "new_model = tf.keras.models.load_model('epic_num_reader.model')\n",
        "predictions=new_model.predict(x_test)\n",
        "print(predictions)\n"
      ],
      "execution_count": 0,
      "outputs": [
        {
          "output_type": "stream",
          "text": [
            "[[3.6749281e-08 3.3652038e-06 1.0956368e-05 ... 9.9987137e-01\n",
            "  3.5562741e-07 3.9530291e-06]\n",
            " [1.4486027e-06 9.4713341e-04 9.9902093e-01 ... 1.2667622e-08\n",
            "  2.4979820e-06 6.3870162e-09]\n",
            " [4.9890588e-07 9.9975079e-01 5.1385072e-05 ... 7.7568657e-05\n",
            "  8.9750414e-05 2.2700174e-06]\n",
            " ...\n",
            " [1.2073093e-07 9.9722308e-07 4.4716330e-07 ... 1.4168836e-05\n",
            "  1.4003537e-05 1.1951223e-04]\n",
            " [2.8756001e-06 4.4182823e-07 7.7508668e-07 ... 8.0251959e-07\n",
            "  3.8550822e-03 2.3370616e-08]\n",
            " [4.2217298e-06 1.0201579e-07 6.9195568e-07 ... 3.9820283e-10\n",
            "  9.8395283e-08 3.7181032e-08]]\n"
          ],
          "name": "stdout"
        }
      ]
    },
    {
      "cell_type": "code",
      "metadata": {
        "id": "BOtebfRokA8K",
        "colab_type": "code",
        "outputId": "56cefbff-28f2-4933-fcaf-3a331ca2af58",
        "colab": {
          "base_uri": "https://localhost:8080/",
          "height": 50
        }
      },
      "source": [
        "import numpy as np\n",
        "print(np.argmax(predictions[0]))\n",
        "\n",
        "if np.argmax(predictions[0]) == y_test[0] :\n",
        "             print(\"Correct answer\")"
      ],
      "execution_count": 0,
      "outputs": [
        {
          "output_type": "stream",
          "text": [
            "7\n",
            "Correct answer\n"
          ],
          "name": "stdout"
        }
      ]
    },
    {
      "cell_type": "code",
      "metadata": {
        "id": "P6nmY-x_llT8",
        "colab_type": "code",
        "outputId": "a19dc679-c409-4e2a-8c5a-1892af8a4c38",
        "colab": {
          "base_uri": "https://localhost:8080/",
          "height": 265
        }
      },
      "source": [
        "plt.imshow(x_test[0])\n",
        "plt.show()"
      ],
      "execution_count": 0,
      "outputs": [
        {
          "output_type": "display_data",
          "data": {
            "image/png": "[encoded data removed]",
            "text/plain": [
              "<Figure size 432x288 with 1 Axes>"
            ]
          },
          "metadata": {
            "tags": [],
            "needs_background": "light"
          }
        }
      ]
    },
    {
      "cell_type": "code",
      "metadata": {
        "id": "zOluYxngltIc",
        "colab_type": "code",
        "outputId": "d852c4cb-f732-4ea4-ee13-8c81c6cbe9c5",
        "colab": {
          "base_uri": "https://localhost:8080/",
          "height": 34
        }
      },
      "source": [
        "print(y_test[0])\n",
        "#print(x_test[0])"
      ],
      "execution_count": 0,
      "outputs": [
        {
          "output_type": "stream",
          "text": [
            "7\n"
          ],
          "name": "stdout"
        }
      ]
    },
    {
      "cell_type": "code",
      "metadata": {
        "id": "g3Cga78Sl1QE",
        "colab_type": "code",
        "colab": {}
      },
      "source": [
        "class mycallback(tf.keras.callbacks.Callback):\n",
        "  def on_epoch_end(self,epoch,log={}):\n",
        "    if(log.get('loss')< 0.4):\n",
        "      print(\"\\n the loss is too low stop the training\")\n",
        "      self.model.stop_trainig=True\n",
        "    \n"
      ],
      "execution_count": 0,
      "outputs": []
    },
    {
      "cell_type": "code",
      "metadata": {
        "id": "9R45o7f85J84",
        "colab_type": "code",
        "colab": {}
      },
      "source": [
        ""
      ],
      "execution_count": 0,
      "outputs": []
    }
  ]
}